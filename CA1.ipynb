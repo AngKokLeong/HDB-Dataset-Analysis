{
 "cells": [
  {
   "cell_type": "markdown",
   "id": "6fcaeb14-19d4-40d4-9dea-86cb46206590",
   "metadata": {},
   "source": [
    "# Introduction to Programming for Data Science CA1 Assessment"
   ]
  },
  {
   "cell_type": "markdown",
   "id": "4f16b369-39c4-4318-9520-03c733114e09",
   "metadata": {},
   "source": [
    "## Introduction\n",
    "\n",
    "The dataset are obtained from data.gov.sg for HDB dataset.\n",
    "\n"
   ]
  },
  {
   "cell_type": "markdown",
   "id": "c628a293-b4e5-4f9f-aa36-cb5c221ed1d0",
   "metadata": {},
   "source": [
    "DataSet"
   ]
  },
  {
   "cell_type": "markdown",
   "id": "a40bcc96-d6b0-4f7f-867d-a16396fc28c4",
   "metadata": {},
   "source": [
    "Data Preparation"
   ]
  },
  {
   "cell_type": "markdown",
   "id": "20c022cb-d7df-4cf5-9b94-be1839e4cd7c",
   "metadata": {},
   "source": [
    "Describe the dataset"
   ]
  },
  {
   "cell_type": "markdown",
   "id": "379aeed2-17d6-41f0-a50e-b7a85de5a80d",
   "metadata": {},
   "source": [
    "Data Analysis"
   ]
  },
  {
   "cell_type": "markdown",
   "id": "9f4dc570-b1db-48d1-b42c-95b53741175f",
   "metadata": {},
   "source": []
  },
  {
   "cell_type": "code",
   "execution_count": 8,
   "id": "e96d3f7f-a198-4794-861e-fd10aa377b41",
   "metadata": {},
   "outputs": [
    {
     "name": "stdout",
     "output_type": "stream",
     "text": [
      "asd\n"
     ]
    }
   ],
   "source": [
    "print(\"asd\")"
   ]
  },
  {
   "cell_type": "code",
   "execution_count": 9,
   "id": "fc26d492",
   "metadata": {},
   "outputs": [
    {
     "name": "stdout",
     "output_type": "stream",
     "text": [
      "a\n"
     ]
    }
   ],
   "source": [
    "print(\"a\")"
   ]
  },
  {
   "cell_type": "code",
   "execution_count": null,
   "id": "2655fdee-9ba3-49da-8835-e8fbe540911a",
   "metadata": {},
   "outputs": [],
   "source": []
  }
 ],
 "metadata": {
  "kernelspec": {
   "display_name": "Python 3 (ipykernel)",
   "language": "python",
   "name": "python3"
  },
  "language_info": {
   "codemirror_mode": {
    "name": "ipython",
    "version": 3
   },
   "file_extension": ".py",
   "mimetype": "text/x-python",
   "name": "python",
   "nbconvert_exporter": "python",
   "pygments_lexer": "ipython3",
   "version": "3.11.7"
  }
 },
 "nbformat": 4,
 "nbformat_minor": 5
}
