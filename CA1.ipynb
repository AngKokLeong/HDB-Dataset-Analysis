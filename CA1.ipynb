{
 "cells": [
  {
   "cell_type": "markdown",
   "id": "6fcaeb14-19d4-40d4-9dea-86cb46206590",
   "metadata": {},
   "source": [
    "# HDB Dataset Analysis"
   ]
  },
  {
   "cell_type": "markdown",
   "id": "a80960cb",
   "metadata": {},
   "source": [
    "## Summary \n",
    "\n",
    "asdasd\n",
    "The dataset are obtained from data.gov.sg for HDB dataset."
   ]
  },
  {
   "cell_type": "code",
   "execution_count": 1,
   "id": "1fc3c16f-4d20-4274-81f9-46f6078b1e56",
   "metadata": {},
   "outputs": [],
   "source": [
    "import data_processor\n",
    "import numpy"
   ]
  },
  {
   "cell_type": "markdown",
   "id": "a40bcc96-d6b0-4f7f-867d-a16396fc28c4",
   "metadata": {},
   "source": [
    "## Data Preparation"
   ]
  },
  {
   "cell_type": "markdown",
   "id": "f0c4d0b2",
   "metadata": {},
   "source": [
    "### Data Extraction from CSV files\n",
    "\n",
    "The method from the Extract module have steps that retrieve the data from CSV files in csv-files folder.\n",
    "\n",
    "The data type and column name in the numpy array are defined within during the data extraction upon the creation of the numpy array.\n"
   ]
  },
  {
   "cell_type": "code",
   "execution_count": 2,
   "id": "c993357c",
   "metadata": {},
   "outputs": [],
   "source": [
    "active_cases_of_renting_out_of_flat_dataset: numpy.ndarray = data_processor.extract.retrieve_data_for_active_cases_of_renting_out_of_flat()\n",
    "demand_for_rental_and_sold_flats_dataset: numpy.ndarray = data_processor.extract.retrieve_data_for_demand_for_rental_and_sold_flats()\n",
    "median_rent_by_town_and_flat_type_dataset: numpy.ndarray = data_processor.extract.retrieve_data_for_median_rent_by_town_and_flat_type()\n",
    "median_resale_prices_for_registered_applications_by_town_and_flat_type_dataset: numpy.ndarray = data_processor.extract.retrieve_data_for_median_resale_prices_for_registered_applications_by_town_and_flat_type()\n",
    "number_of_sold_and_rented_hdb_residential_units_dataset: numpy.ndarray = data_processor.extract.retrieve_data_for_number_of_sold_and_rented_hdb_residential_units()\n",
    "price_range_of_hdb_flats_offered_dataset: numpy.ndarray = data_processor.extract.retrieve_data_for_price_range_of_hdb_flats_offered()\n",
    "renting_ouf_of_flat_approvals_by_flat_type_quarterly_dataset: numpy.ndarray = data_processor.extract.retrieve_data_for_renting_out_of_flat_approvals_by_flat_type_quarterly()\n"
   ]
  },
  {
   "cell_type": "markdown",
   "id": "6496d30b",
   "metadata": {},
   "source": [
    "### Data Transformation "
   ]
  },
  {
   "cell_type": "code",
   "execution_count": 3,
   "id": "d2b33cff",
   "metadata": {},
   "outputs": [
    {
     "name": "stdout",
     "output_type": "stream",
     "text": [
      "True\n",
      "True\n",
      "True\n",
      "True\n",
      "True\n",
      "int32\n",
      "True\n"
     ]
    }
   ],
   "source": [
    "active_cases_of_renting_out_of_flat_dataset_transformed: numpy.ndarray = data_processor.transform.transform_active_cases_of_renting_out_of_flat_dataset(active_cases_of_renting_out_of_flat_dataset)\n",
    "median_rent_by_town_and_flat_type_dataset_transformed: numpy.ndarray = data_processor.transform.transform_median_rent_by_town_and_flat_type_dataset(median_rent_by_town_and_flat_type_dataset)\n",
    "median_resale_prices_for_registered_applications_by_town_and_flat_type_dataset_transformed: numpy.ndarray = data_processor.transform.transform_median_resale_prices_for_registered_applications_by_town_and_flat_type_dataset(median_resale_prices_for_registered_applications_by_town_and_flat_type_dataset)\n",
    "number_of_sold_and_rented_hdb_residential_units_dataset_transformed: numpy.ndarray = data_processor.transform.transform_number_of_sold_and_rented_hdb_residential_units_dataset(number_of_sold_and_rented_hdb_residential_units_dataset)\n",
    "price_range_of_hdb_flats_offered_dataset_transformed: numpy.ndarray = data_processor.transform.transform_price_range_of_hdb_flats_offered_dataset(price_range_of_hdb_flats_offered_dataset)\n",
    "renting_ouf_of_flat_approvals_by_flat_type_quarterly_dataset_transformed: numpy.ndarray = data_processor.transform.transform_renting_out_of_flat_approvals_by_flat_type_quarterly_dataset(renting_ouf_of_flat_approvals_by_flat_type_quarterly_dataset)\n",
    "demand_for_rental_and_sold_flats_dataset_transformed: numpy.ndarray = data_processor.transform.transform_demand_for_rental_and_sold_flats_dataset(demand_for_rental_and_sold_flats_dataset)\n"
   ]
  },
  {
   "cell_type": "markdown",
   "id": "20c022cb-d7df-4cf5-9b94-be1839e4cd7c",
   "metadata": {},
   "source": [
    "## Data Profiling"
   ]
  },
  {
   "cell_type": "markdown",
   "id": "c1ca21c9",
   "metadata": {},
   "source": [
    "### Dataset Analysis for Active cases of renting out of flat"
   ]
  },
  {
   "cell_type": "code",
   "execution_count": 4,
   "id": "12ae9438",
   "metadata": {},
   "outputs": [
    {
     "name": "stdout",
     "output_type": "stream",
     "text": [
      "***Active cases of renting out of flat***\n",
      "\n",
      "There are 17 rows and 2 columns in this dataset\n",
      "\n",
      "The names of the columns are: \n",
      "- financial_year <class 'int'> isnumeric: True \n",
      "- no_active_cases <class 'int'> isnumeric: True \n",
      "\n",
      "There are 17 unique values in financial_year column\n",
      "There are 17 unique values in no_active_cases column\n"
     ]
    }
   ],
   "source": [
    "data_processor.describe.perform_dataset_analysis(\"Active cases of renting out of flat\", active_cases_of_renting_out_of_flat_dataset_transformed)"
   ]
  },
  {
   "cell_type": "markdown",
   "id": "e3eede91",
   "metadata": {},
   "source": [
    "### Basic 5 figure summary for the dataset of Active cases of renting out of flat"
   ]
  },
  {
   "cell_type": "code",
   "execution_count": 5,
   "id": "455ffecd",
   "metadata": {},
   "outputs": [
    {
     "name": "stdout",
     "output_type": "stream",
     "text": [
      "***Five number summary for Active cases of renting out of flat dataset**\n",
      "Column: no_active_cases\n",
      "\n",
      "Minimum value: 13210\n",
      "Q1: 41162\n",
      "Median: 51052\n",
      "Q3: 58171\n",
      "Maximum value: 60573\n",
      "\n",
      "\n"
     ]
    }
   ],
   "source": [
    "data_processor.describe.perform_statistical_analysis(\"Active cases of renting out of flat\", active_cases_of_renting_out_of_flat_dataset_transformed, ['financial_year'])"
   ]
  },
  {
   "cell_type": "markdown",
   "id": "8792f126",
   "metadata": {},
   "source": [
    "Dataset Analysis for Demand for rental and sold flats"
   ]
  },
  {
   "cell_type": "code",
   "execution_count": 6,
   "id": "1be72e56",
   "metadata": {},
   "outputs": [
    {
     "name": "stdout",
     "output_type": "stream",
     "text": [
      "***Demand for rental and sold flats***\n",
      "\n",
      "There are 26 rows and 4 columns in this dataset\n",
      "\n",
      "The names of the columns are: \n",
      "- start_year <class 'int'> isnumeric: True \n",
      "- end_year <class 'int'> isnumeric: True \n",
      "- flat_type <class 'str'> isnumeric: True \n",
      "- demand_for_flats <class 'int'> isnumeric: True \n",
      "\n",
      "There are 13 unique values in start_year column\n",
      "There are 13 unique values in end_year column\n",
      "There are 2 unique values in flat_type column\n",
      "There are 26 unique values in demand_for_flats column\n"
     ]
    }
   ],
   "source": [
    "data_processor.describe.perform_dataset_analysis(\"Demand for rental and sold flats\", demand_for_rental_and_sold_flats_dataset_transformed)"
   ]
  },
  {
   "cell_type": "markdown",
   "id": "8ddcbdc0",
   "metadata": {},
   "source": [
    "### Five number summary for Demand for rental and sold flats dataset"
   ]
  },
  {
   "cell_type": "code",
   "execution_count": 4,
   "id": "73f8b374",
   "metadata": {},
   "outputs": [
    {
     "name": "stdout",
     "output_type": "stream",
     "text": [
      "<class 'str'>\n"
     ]
    }
   ],
   "source": [
    "print(type('asd'))"
   ]
  },
  {
   "cell_type": "markdown",
   "id": "b8f64dd0",
   "metadata": {},
   "source": [
    "### Dataset Analysis for Median Rent by town and flat type dataset"
   ]
  },
  {
   "cell_type": "code",
   "execution_count": 7,
   "id": "35d4b75a",
   "metadata": {},
   "outputs": [
    {
     "name": "stdout",
     "output_type": "stream",
     "text": [
      "***Median Rent by Town and Flat Type***\n",
      "\n",
      "There are 11277 rows and 4 columns in this dataset\n",
      "\n",
      "The names of the columns are: \n",
      "- quarter <class 'str'> isnumeric: True \n",
      "- town <class 'str'> isnumeric: True \n",
      "- flat_type <class 'str'> isnumeric: True \n",
      "- median_rent <class 'str'> isnumeric: True \n",
      "\n",
      "There are 71 unique values in quarter column\n",
      "There are 28 unique values in town column\n",
      "There are 6 unique values in flat_type column\n",
      "There are 211 unique values in median_rent column\n"
     ]
    }
   ],
   "source": [
    "data_processor.describe.perform_dataset_analysis(\"Median Rent by Town and Flat Type\", median_rent_by_town_and_flat_type_dataset_transformed)"
   ]
  },
  {
   "cell_type": "markdown",
   "id": "379aeed2-17d6-41f0-a50e-b7a85de5a80d",
   "metadata": {},
   "source": [
    "Data Analysis"
   ]
  },
  {
   "cell_type": "code",
   "execution_count": 3,
   "id": "bf78efd3",
   "metadata": {},
   "outputs": [
    {
     "name": "stdout",
     "output_type": "stream",
     "text": [
      "/workspaces/IPDS-CA1-Jupyter/HDB-Dataset-Analysis/data_processor\n"
     ]
    }
   ],
   "source": [
    "print(data_processor.file_path)"
   ]
  },
  {
   "cell_type": "code",
   "execution_count": 4,
   "id": "6f7a3a30-99b7-4b92-85d8-c1450111c67a",
   "metadata": {},
   "outputs": [],
   "source": []
  },
  {
   "cell_type": "code",
   "execution_count": 5,
   "id": "e96d3f7f-a198-4794-861e-fd10aa377b41",
   "metadata": {},
   "outputs": [
    {
     "name": "stdout",
     "output_type": "stream",
     "text": [
      "True\n"
     ]
    }
   ],
   "source": [
    "active_cases_of_renting_out_of_flat_dataset = data_processor.transform.transform_active_cases_of_renting_out_of_flat_dataset(active_cases_of_renting_out_of_flat_dataset)"
   ]
  },
  {
   "cell_type": "code",
   "execution_count": 6,
   "id": "fc26d492",
   "metadata": {},
   "outputs": [
    {
     "name": "stdout",
     "output_type": "stream",
     "text": [
      "[(2006, 13210) (2007, 18735) (2008, 22754) (2009, 27256) (2010, 36440)\n",
      " (2011, 41162) (2012, 44274) (2013, 46637) (2014, 48338) (2015, 51052)\n",
      " (2016, 53360) (2017, 54329) (2018, 57764) (2019, 60573) (2020, 58171)\n",
      " (2021, 56340) (2022, 56652)]\n"
     ]
    }
   ],
   "source": [
    "print(active_cases_of_renting_out_of_flat_dataset)"
   ]
  },
  {
   "cell_type": "code",
   "execution_count": null,
   "id": "2655fdee-9ba3-49da-8835-e8fbe540911a",
   "metadata": {},
   "outputs": [],
   "source": []
  }
 ],
 "metadata": {
  "kernelspec": {
   "display_name": "Python 3 (ipykernel)",
   "language": "python",
   "name": "python3"
  },
  "language_info": {
   "codemirror_mode": {
    "name": "ipython",
    "version": 3
   },
   "file_extension": ".py",
   "mimetype": "text/x-python",
   "name": "python",
   "nbconvert_exporter": "python",
   "pygments_lexer": "ipython3",
   "version": "3.11.7"
  }
 },
 "nbformat": 4,
 "nbformat_minor": 5
}
